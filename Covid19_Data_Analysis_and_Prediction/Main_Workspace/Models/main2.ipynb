{
 "cells": [
  {
   "cell_type": "markdown",
   "id": "million-correction",
   "metadata": {},
   "source": [
    "## Imports"
   ]
  },
  {
   "cell_type": "code",
   "execution_count": 1,
   "id": "cross-county",
   "metadata": {},
   "outputs": [
    {
     "ename": "ModuleNotFoundError",
     "evalue": "No module named 'mysql'",
     "output_type": "error",
     "traceback": [
      "\u001b[0;31m---------------------------------------------------------------------------\u001b[0m",
      "\u001b[0;31mModuleNotFoundError\u001b[0m                       Traceback (most recent call last)",
      "\u001b[0;32m/data/user/0/ru.iiec.pydroid3/cache/ipykernel_11881/2522671858.py\u001b[0m in \u001b[0;36m<module>\u001b[0;34m\u001b[0m\n\u001b[1;32m      3\u001b[0m \u001b[0;32mimport\u001b[0m \u001b[0mmatplotlib\u001b[0m\u001b[0;34m.\u001b[0m\u001b[0mpyplot\u001b[0m \u001b[0;32mas\u001b[0m \u001b[0mplt\u001b[0m\u001b[0;34m\u001b[0m\u001b[0;34m\u001b[0m\u001b[0m\n\u001b[1;32m      4\u001b[0m \u001b[0;32mfrom\u001b[0m \u001b[0mpandas\u001b[0m\u001b[0;34m.\u001b[0m\u001b[0mplotting\u001b[0m \u001b[0;32mimport\u001b[0m \u001b[0mscatter_matrix\u001b[0m\u001b[0;34m\u001b[0m\u001b[0;34m\u001b[0m\u001b[0m\n\u001b[0;32m----> 5\u001b[0;31m \u001b[0;32mimport\u001b[0m \u001b[0mmysql\u001b[0m\u001b[0;34m.\u001b[0m\u001b[0mconnector\u001b[0m\u001b[0;34m\u001b[0m\u001b[0;34m\u001b[0m\u001b[0m\n\u001b[0m\u001b[1;32m      6\u001b[0m \u001b[0;32mfrom\u001b[0m \u001b[0msklearn\u001b[0m\u001b[0;34m.\u001b[0m\u001b[0mlinear_model\u001b[0m \u001b[0;32mimport\u001b[0m \u001b[0mLinearRegression\u001b[0m\u001b[0;34m\u001b[0m\u001b[0;34m\u001b[0m\u001b[0m\n\u001b[1;32m      7\u001b[0m \u001b[0;32mfrom\u001b[0m \u001b[0msklearn\u001b[0m\u001b[0;34m.\u001b[0m\u001b[0mensemble\u001b[0m \u001b[0;32mimport\u001b[0m \u001b[0mRandomForestRegressor\u001b[0m\u001b[0;34m\u001b[0m\u001b[0;34m\u001b[0m\u001b[0m\n",
      "\u001b[0;31mModuleNotFoundError\u001b[0m: No module named 'mysql'"
     ]
    }
   ],
   "source": [
    "import pandas\n",
    "import numpy\n",
    "import matplotlib.pyplot as plt\n",
    "from pandas.plotting import scatter_matrix\n",
    "import mysql.connector\n",
    "from sklearn.linear_model import LinearRegression\n",
    "from sklearn.ensemble import RandomForestRegressor\n",
    "from sklearn.tree import DecisionTreeRegressor,ExtraTreeRegressor\n",
    "from sklearn.metrics import mean_squared_error,mean_absolute_error,r2_score,mean_squared_log_error\n",
    "import joblib\n",
    "from sklearn.model_selection import train_test_split"
   ]
  },
  {
   "cell_type": "code",
   "execution_count": null,
   "id": "prerequisite-equipment",
   "metadata": {},
   "outputs": [],
   "source": [
    "with open('../config.env') as f:\n",
    "    credentials=f.read()\n",
    "credentials=credentials.split(\" \")\n",
    "con = mysql.connector.connect(username=credentials[0],password=credentials[1],host=credentials[2],port=credentials[3],database=credentials[4])\n",
    "query=con.cursor()"
   ]
  },
  {
   "cell_type": "code",
   "execution_count": null,
   "id": "welcome-photographer",
   "metadata": {},
   "outputs": [],
   "source": [
    "sql=\"SELECT * FROM total_india_cases\"\n",
    "query.execute(sql)\n",
    "result=query.fetchall()\n",
    "column=[columns[0] for columns in query.description]"
   ]
  },
  {
   "cell_type": "code",
   "execution_count": null,
   "id": "mounted-lesson",
   "metadata": {},
   "outputs": [],
   "source": [
    "data=pandas.DataFrame(result,columns=column)"
   ]
  },
  {
   "cell_type": "code",
   "execution_count": null,
   "id": "suitable-court",
   "metadata": {},
   "outputs": [],
   "source": [
    "data"
   ]
  },
  {
   "cell_type": "code",
   "execution_count": null,
   "id": "exciting-handle",
   "metadata": {},
   "outputs": [],
   "source": [
    "# %matplotlib qt\n",
    "%matplotlib inline"
   ]
  },
  {
   "cell_type": "code",
   "execution_count": null,
   "id": "twelve-hospital",
   "metadata": {},
   "outputs": [],
   "source": [
    "data.plot(kind='scatter',x='date',y='total_confirmed',figsize=(20,15))"
   ]
  },
  {
   "cell_type": "code",
   "execution_count": null,
   "id": "retained-haiti",
   "metadata": {},
   "outputs": [],
   "source": [
    "data.plot(kind='line',x='date',y=['total_confirmed','total_active','total_recovered'],figsize=(20,15))"
   ]
  },
  {
   "cell_type": "code",
   "execution_count": null,
   "id": "painful-creation",
   "metadata": {},
   "outputs": [],
   "source": [
    "data.plot(kind='line',x='date',y=['delta_confirmed','delta_active','delta_recovered'],figsize=(20,15))"
   ]
  },
  {
   "cell_type": "code",
   "execution_count": null,
   "id": "played-niagara",
   "metadata": {},
   "outputs": [],
   "source": [
    "data.plot(kind='line',x='date',y=['delta7_confirmed','delta7_active','delta7_recovered'],figsize=(20,15))"
   ]
  },
  {
   "cell_type": "markdown",
   "id": "nearby-grain",
   "metadata": {},
   "source": [
    "### Train Test Splitting"
   ]
  },
  {
   "cell_type": "code",
   "execution_count": null,
   "id": "hearing-registrar",
   "metadata": {},
   "outputs": [],
   "source": [
    "train_data,test_data=train_test_split(data,train_size=0.95,shuffle=False)"
   ]
  },
  {
   "cell_type": "code",
   "execution_count": null,
   "id": "enhanced-conference",
   "metadata": {},
   "outputs": [],
   "source": []
  },
  {
   "cell_type": "code",
   "execution_count": null,
   "id": "intended-western",
   "metadata": {},
   "outputs": [],
   "source": [
    "train_data"
   ]
  },
  {
   "cell_type": "code",
   "execution_count": null,
   "id": "radical-playlist",
   "metadata": {},
   "outputs": [],
   "source": [
    "test_data"
   ]
  },
  {
   "cell_type": "code",
   "execution_count": null,
   "id": "ranking-criterion",
   "metadata": {},
   "outputs": [],
   "source": []
  },
  {
   "cell_type": "code",
   "execution_count": null,
   "id": "favorite-austin",
   "metadata": {},
   "outputs": [],
   "source": [
    "train_features1=train_data[['ordinal_date','delta_tested']].to_numpy()"
   ]
  },
  {
   "cell_type": "code",
   "execution_count": null,
   "id": "catholic-chicago",
   "metadata": {},
   "outputs": [],
   "source": [
    "train_features2=train_data[['ordinal_date','delta_tested','delta_recovered']].to_numpy()"
   ]
  },
  {
   "cell_type": "code",
   "execution_count": null,
   "id": "inappropriate-arkansas",
   "metadata": {},
   "outputs": [],
   "source": [
    "train_features3=train_data[['ordinal_date','delta_tested','delta_recovered','delta_active']].to_numpy()"
   ]
  },
  {
   "cell_type": "code",
   "execution_count": null,
   "id": "incredible-costa",
   "metadata": {},
   "outputs": [],
   "source": [
    "train_labels=train_data['delta_confirmed']"
   ]
  },
  {
   "cell_type": "code",
   "execution_count": null,
   "id": "rolled-candy",
   "metadata": {},
   "outputs": [],
   "source": [
    "train_labels"
   ]
  },
  {
   "cell_type": "code",
   "execution_count": null,
   "id": "bibliographic-identifier",
   "metadata": {},
   "outputs": [],
   "source": []
  },
  {
   "cell_type": "code",
   "execution_count": null,
   "id": "disturbed-theorem",
   "metadata": {},
   "outputs": [],
   "source": [
    "test_features1=test_data[['ordinal_date','delta_tested']].to_numpy()"
   ]
  },
  {
   "cell_type": "code",
   "execution_count": null,
   "id": "chemical-plane",
   "metadata": {},
   "outputs": [],
   "source": [
    "test_features2=test_data[['ordinal_date','delta_tested','delta_recovered']].to_numpy()"
   ]
  },
  {
   "cell_type": "code",
   "execution_count": null,
   "id": "corporate-carroll",
   "metadata": {},
   "outputs": [],
   "source": [
    "test_features3=test_data[['ordinal_date','delta_tested','delta_recovered','delta_active']].to_numpy()"
   ]
  },
  {
   "cell_type": "code",
   "execution_count": null,
   "id": "exclusive-oliver",
   "metadata": {},
   "outputs": [],
   "source": [
    "test_labels=test_data['delta_confirmed']"
   ]
  },
  {
   "cell_type": "code",
   "execution_count": null,
   "id": "satisfactory-airplane",
   "metadata": {},
   "outputs": [],
   "source": [
    "test_labels"
   ]
  },
  {
   "cell_type": "markdown",
   "id": "waiting-angle",
   "metadata": {},
   "source": [
    "## Model selection"
   ]
  },
  {
   "cell_type": "code",
   "execution_count": null,
   "id": "gentle-productivity",
   "metadata": {},
   "outputs": [],
   "source": [
    "model1=RandomForestRegressor(max_depth=100)\n",
    "model2=DecisionTreeRegressor(max_depth=100)\n",
    "model3=ExtraTreeRegressor(max_depth=100)"
   ]
  },
  {
   "cell_type": "code",
   "execution_count": null,
   "id": "medium-distance",
   "metadata": {},
   "outputs": [],
   "source": [
    "model1.fit(train_features1,train_labels)"
   ]
  },
  {
   "cell_type": "code",
   "execution_count": null,
   "id": "unknown-witness",
   "metadata": {},
   "outputs": [],
   "source": [
    "train_data_predicted1=model1.predict(train_features1)"
   ]
  },
  {
   "cell_type": "code",
   "execution_count": null,
   "id": "later-subcommittee",
   "metadata": {},
   "outputs": [],
   "source": [
    "train_data_predicted1"
   ]
  },
  {
   "cell_type": "code",
   "execution_count": null,
   "id": "novel-fight",
   "metadata": {},
   "outputs": [],
   "source": [
    "train_labels"
   ]
  },
  {
   "cell_type": "code",
   "execution_count": null,
   "id": "ordinary-platinum",
   "metadata": {},
   "outputs": [],
   "source": [
    "mean_absolute_error(train_labels,train_data_predicted1)"
   ]
  },
  {
   "cell_type": "code",
   "execution_count": null,
   "id": "heavy-screen",
   "metadata": {},
   "outputs": [],
   "source": [
    "numpy.sqrt(mean_squared_error(train_labels,train_data_predicted1))"
   ]
  },
  {
   "cell_type": "code",
   "execution_count": null,
   "id": "copyrighted-vermont",
   "metadata": {},
   "outputs": [],
   "source": [
    "mean_squared_log_error(train_labels,train_data_predicted1)"
   ]
  },
  {
   "cell_type": "code",
   "execution_count": null,
   "id": "ideal-regular",
   "metadata": {},
   "outputs": [],
   "source": [
    "r2_score(train_labels,train_data_predicted1)"
   ]
  },
  {
   "cell_type": "code",
   "execution_count": null,
   "id": "removable-wellington",
   "metadata": {},
   "outputs": [],
   "source": []
  },
  {
   "cell_type": "code",
   "execution_count": null,
   "id": "standard-house",
   "metadata": {},
   "outputs": [],
   "source": [
    "model1.fit(train_features2,train_labels)"
   ]
  },
  {
   "cell_type": "code",
   "execution_count": null,
   "id": "million-initial",
   "metadata": {},
   "outputs": [],
   "source": [
    "train_data_predicted2=model1.predict(train_features2)"
   ]
  },
  {
   "cell_type": "code",
   "execution_count": null,
   "id": "angry-default",
   "metadata": {},
   "outputs": [],
   "source": [
    "train_data_predicted2"
   ]
  },
  {
   "cell_type": "code",
   "execution_count": null,
   "id": "beginning-franklin",
   "metadata": {},
   "outputs": [],
   "source": [
    "train_labels"
   ]
  },
  {
   "cell_type": "code",
   "execution_count": null,
   "id": "unnecessary-termination",
   "metadata": {},
   "outputs": [],
   "source": [
    "mean_absolute_error(train_labels,train_data_predicted2)"
   ]
  },
  {
   "cell_type": "code",
   "execution_count": null,
   "id": "sorted-charity",
   "metadata": {},
   "outputs": [],
   "source": [
    "numpy.sqrt(mean_squared_error(train_labels,train_data_predicted2))"
   ]
  },
  {
   "cell_type": "code",
   "execution_count": null,
   "id": "international-native",
   "metadata": {},
   "outputs": [],
   "source": [
    "mean_squared_log_error(train_labels,train_data_predicted2)"
   ]
  },
  {
   "cell_type": "code",
   "execution_count": null,
   "id": "eastern-arrow",
   "metadata": {},
   "outputs": [],
   "source": [
    "r2_score(train_labels,train_data_predicted2)"
   ]
  },
  {
   "cell_type": "code",
   "execution_count": null,
   "id": "future-interference",
   "metadata": {},
   "outputs": [],
   "source": [
    "model1.fit(train_features3,train_labels)"
   ]
  }
 ],
 "metadata": {
  "kernelspec": {
   "display_name": "Python 3 (ipykernel)",
   "language": "python",
   "name": "python3"
  },
  "language_info": {
   "codemirror_mode": {
    "name": "ipython",
    "version": 3
   },
   "file_extension": ".py",
   "mimetype": "text/x-python",
   "name": "python",
   "nbconvert_exporter": "python",
   "pygments_lexer": "ipython3",
   "version": "3.8.3"
  }
 },
 "nbformat": 4,
 "nbformat_minor": 5
}
